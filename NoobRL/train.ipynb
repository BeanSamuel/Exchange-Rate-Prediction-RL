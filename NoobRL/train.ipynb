{
 "cells": [
  {
   "cell_type": "markdown",
   "id": "969d79ca2748f50a",
   "metadata": {
    "collapsed": false
   },
   "source": [
    "## Train Model"
   ]
  },
  {
   "cell_type": "code",
   "execution_count": null,
   "metadata": {},
   "outputs": [],
   "source": [
    "!python run.py"
   ]
  },
  {
   "cell_type": "markdown",
   "metadata": {},
   "source": [
    "## Model Predict"
   ]
  },
  {
   "cell_type": "code",
   "execution_count": 2,
   "id": "initial_id",
   "metadata": {
    "ExecuteTime": {
     "end_time": "2023-11-16T13:05:37.694280066Z",
     "start_time": "2023-11-16T13:05:34.806160603Z"
    },
    "collapsed": true
   },
   "outputs": [
    {
     "name": "stdout",
     "output_type": "stream",
     "text": [
      "Microsoft Visual C++ Redistributable is not installed, this may lead to the DLL load failure.\n",
      "                 It can be downloaded at https://aka.ms/vs/16/release/vc_redist.x64.exe\n",
      "\n",
      "------------------------------------ PPOAgent ------------------------------------\n",
      "ActorCriticModel(\n",
      "  (actor): Actor(\n",
      "    (mu): Mlp(\n",
      "      (model): Sequential(\n",
      "        (0): Linear(in_features=329, out_features=256, bias=True)\n",
      "        (1): ReLU()\n",
      "        (2): Linear(in_features=256, out_features=256, bias=True)\n",
      "        (3): ReLU()\n",
      "        (4): Linear(in_features=256, out_features=9, bias=True)\n",
      "      )\n",
      "      (out_act): Softmax(dim=None)\n",
      "    )\n",
      "  )\n",
      "  (critic): Critic(\n",
      "    (value): Mlp(\n",
      "      (model): Sequential(\n",
      "        (0): Linear(in_features=329, out_features=256, bias=True)\n",
      "        (1): ReLU()\n",
      "        (2): Linear(in_features=256, out_features=256, bias=True)\n",
      "        (3): ReLU()\n",
      "        (4): Linear(in_features=256, out_features=1, bias=True)\n",
      "      )\n",
      "      (out_act): Identity()\n",
      "    )\n",
      "  )\n",
      "  (normalize_obs): RunningMeanStd()\n",
      "  (normalize_value): Identity()\n",
      ")\n",
      "total profit: 1.0088475228360005\n"
     ]
    }
   ],
   "source": [
    "!python run.py test=True test_data='./test.csv'"
   ]
  }
 ],
 "metadata": {
  "kernelspec": {
   "display_name": "Python 3",
   "language": "python",
   "name": "python3"
  },
  "language_info": {
   "codemirror_mode": {
    "name": "ipython",
    "version": 3
   },
   "file_extension": ".py",
   "mimetype": "text/x-python",
   "name": "python",
   "nbconvert_exporter": "python",
   "pygments_lexer": "ipython3",
   "version": "3.11.3"
  }
 },
 "nbformat": 4,
 "nbformat_minor": 5
}
